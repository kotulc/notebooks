{
 "cells": [
  {
   "cell_type": "code",
   "execution_count": 3,
   "metadata": {},
   "outputs": [],
   "source": [
    "import pandas as pd\n",
    "import data_io as io"
   ]
  },
  {
   "cell_type": "code",
   "execution_count": 8,
   "metadata": {},
   "outputs": [],
   "source": [
    "index_df = pd.read_pickle(io.SAVE_PATH + 'index.pkl')"
   ]
  },
  {
   "cell_type": "code",
   "execution_count": 11,
   "metadata": {},
   "outputs": [
    {
     "data": {
      "text/html": [
       "<div>\n",
       "<style scoped>\n",
       "    .dataframe tbody tr th:only-of-type {\n",
       "        vertical-align: middle;\n",
       "    }\n",
       "\n",
       "    .dataframe tbody tr th {\n",
       "        vertical-align: top;\n",
       "    }\n",
       "\n",
       "    .dataframe thead th {\n",
       "        text-align: right;\n",
       "    }\n",
       "</style>\n",
       "<table border=\"1\" class=\"dataframe\">\n",
       "  <thead>\n",
       "    <tr style=\"text-align: right;\">\n",
       "      <th></th>\n",
       "      <th>x0</th>\n",
       "      <th>x1</th>\n",
       "      <th>y0</th>\n",
       "      <th>y1</th>\n",
       "      <th>sample_idx</th>\n",
       "      <th>input</th>\n",
       "    </tr>\n",
       "  </thead>\n",
       "  <tbody>\n",
       "    <tr>\n",
       "      <th>0</th>\n",
       "      <td>3</td>\n",
       "      <td>8</td>\n",
       "      <td>3</td>\n",
       "      <td>8</td>\n",
       "      <td>0</td>\n",
       "      <td>[0, 0, 0, 0, 0, 0, 0, 0, 0, 0, 0, 0, 0, 0, 0, ...</td>\n",
       "    </tr>\n",
       "    <tr>\n",
       "      <th>1</th>\n",
       "      <td>3</td>\n",
       "      <td>8</td>\n",
       "      <td>6</td>\n",
       "      <td>11</td>\n",
       "      <td>0</td>\n",
       "      <td>[0, 0, 0, 0, 0, 0, 0, 0, 0, 0, 0, 0, 0, 0, 0, ...</td>\n",
       "    </tr>\n",
       "    <tr>\n",
       "      <th>2</th>\n",
       "      <td>3</td>\n",
       "      <td>8</td>\n",
       "      <td>9</td>\n",
       "      <td>14</td>\n",
       "      <td>0</td>\n",
       "      <td>[0, 0, 0, 0, 0, 0, 0, 0, 0, 0, 0, 0, 0, 0, 0, ...</td>\n",
       "    </tr>\n",
       "    <tr>\n",
       "      <th>3</th>\n",
       "      <td>3</td>\n",
       "      <td>8</td>\n",
       "      <td>12</td>\n",
       "      <td>17</td>\n",
       "      <td>0</td>\n",
       "      <td>[0, 0, 0, 0, 0, 0, 0, 0, 0, 0, 0, 0, 0, 0, 0, ...</td>\n",
       "    </tr>\n",
       "    <tr>\n",
       "      <th>4</th>\n",
       "      <td>3</td>\n",
       "      <td>8</td>\n",
       "      <td>15</td>\n",
       "      <td>20</td>\n",
       "      <td>0</td>\n",
       "      <td>[0, 0, 0, 0, 0, 0, 0, 0, 0, 0, 0, 0, 1, 1, 0, ...</td>\n",
       "    </tr>\n",
       "    <tr>\n",
       "      <th>5</th>\n",
       "      <td>3</td>\n",
       "      <td>8</td>\n",
       "      <td>18</td>\n",
       "      <td>23</td>\n",
       "      <td>0</td>\n",
       "      <td>[0, 0, 0, 0, 0, 0, 0, 0, 0, 0, 1, 0, 1, 1, 1, ...</td>\n",
       "    </tr>\n",
       "    <tr>\n",
       "      <th>6</th>\n",
       "      <td>3</td>\n",
       "      <td>8</td>\n",
       "      <td>21</td>\n",
       "      <td>26</td>\n",
       "      <td>0</td>\n",
       "      <td>[0, 0, 0, 0, 0, 0, 0, 0, 0, 0, 1, 1, 0, 0, 0, ...</td>\n",
       "    </tr>\n",
       "    <tr>\n",
       "      <th>7</th>\n",
       "      <td>6</td>\n",
       "      <td>11</td>\n",
       "      <td>3</td>\n",
       "      <td>8</td>\n",
       "      <td>0</td>\n",
       "      <td>[0, 0, 0, 0, 0, 0, 0, 0, 0, 1, 0, 0, 0, 0, 0, ...</td>\n",
       "    </tr>\n",
       "    <tr>\n",
       "      <th>8</th>\n",
       "      <td>6</td>\n",
       "      <td>11</td>\n",
       "      <td>6</td>\n",
       "      <td>11</td>\n",
       "      <td>0</td>\n",
       "      <td>[0, 0, 0, 0, 0, 0, 0, 1, 1, 1, 0, 0, 1, 1, 1, ...</td>\n",
       "    </tr>\n",
       "    <tr>\n",
       "      <th>9</th>\n",
       "      <td>6</td>\n",
       "      <td>11</td>\n",
       "      <td>9</td>\n",
       "      <td>14</td>\n",
       "      <td>0</td>\n",
       "      <td>[0, 0, 1, 1, 1, 1, 1, 1, 1, 1, 1, 1, 1, 1, 1, ...</td>\n",
       "    </tr>\n",
       "  </tbody>\n",
       "</table>\n",
       "</div>"
      ],
      "text/plain": [
       "   x0  x1  y0  y1  sample_idx  \\\n",
       "0   3   8   3   8           0   \n",
       "1   3   8   6  11           0   \n",
       "2   3   8   9  14           0   \n",
       "3   3   8  12  17           0   \n",
       "4   3   8  15  20           0   \n",
       "5   3   8  18  23           0   \n",
       "6   3   8  21  26           0   \n",
       "7   6  11   3   8           0   \n",
       "8   6  11   6  11           0   \n",
       "9   6  11   9  14           0   \n",
       "\n",
       "                                               input  \n",
       "0  [0, 0, 0, 0, 0, 0, 0, 0, 0, 0, 0, 0, 0, 0, 0, ...  \n",
       "1  [0, 0, 0, 0, 0, 0, 0, 0, 0, 0, 0, 0, 0, 0, 0, ...  \n",
       "2  [0, 0, 0, 0, 0, 0, 0, 0, 0, 0, 0, 0, 0, 0, 0, ...  \n",
       "3  [0, 0, 0, 0, 0, 0, 0, 0, 0, 0, 0, 0, 0, 0, 0, ...  \n",
       "4  [0, 0, 0, 0, 0, 0, 0, 0, 0, 0, 0, 0, 1, 1, 0, ...  \n",
       "5  [0, 0, 0, 0, 0, 0, 0, 0, 0, 0, 1, 0, 1, 1, 1, ...  \n",
       "6  [0, 0, 0, 0, 0, 0, 0, 0, 0, 0, 1, 1, 0, 0, 0, ...  \n",
       "7  [0, 0, 0, 0, 0, 0, 0, 0, 0, 1, 0, 0, 0, 0, 0, ...  \n",
       "8  [0, 0, 0, 0, 0, 0, 0, 1, 1, 1, 0, 0, 1, 1, 1, ...  \n",
       "9  [0, 0, 1, 1, 1, 1, 1, 1, 1, 1, 1, 1, 1, 1, 1, ...  "
      ]
     },
     "execution_count": 11,
     "metadata": {},
     "output_type": "execute_result"
    }
   ],
   "source": [
    "index_df.head(10)"
   ]
  },
  {
   "cell_type": "code",
   "execution_count": 12,
   "metadata": {},
   "outputs": [
    {
     "data": {
      "text/html": [
       "<div>\n",
       "<style scoped>\n",
       "    .dataframe tbody tr th:only-of-type {\n",
       "        vertical-align: middle;\n",
       "    }\n",
       "\n",
       "    .dataframe tbody tr th {\n",
       "        vertical-align: top;\n",
       "    }\n",
       "\n",
       "    .dataframe thead th {\n",
       "        text-align: right;\n",
       "    }\n",
       "</style>\n",
       "<table border=\"1\" class=\"dataframe\">\n",
       "  <thead>\n",
       "    <tr style=\"text-align: right;\">\n",
       "      <th></th>\n",
       "      <th>x0</th>\n",
       "      <th>x1</th>\n",
       "      <th>y0</th>\n",
       "      <th>y1</th>\n",
       "      <th>sample_idx</th>\n",
       "    </tr>\n",
       "  </thead>\n",
       "  <tbody>\n",
       "    <tr>\n",
       "      <th>count</th>\n",
       "      <td>3528.000000</td>\n",
       "      <td>3528.000000</td>\n",
       "      <td>3528.000000</td>\n",
       "      <td>3528.000000</td>\n",
       "      <td>3528.000000</td>\n",
       "    </tr>\n",
       "    <tr>\n",
       "      <th>mean</th>\n",
       "      <td>11.541667</td>\n",
       "      <td>16.541667</td>\n",
       "      <td>11.949830</td>\n",
       "      <td>16.949830</td>\n",
       "      <td>49.598073</td>\n",
       "    </tr>\n",
       "    <tr>\n",
       "      <th>std</th>\n",
       "      <td>5.998437</td>\n",
       "      <td>5.998437</td>\n",
       "      <td>5.084211</td>\n",
       "      <td>5.084211</td>\n",
       "      <td>28.736546</td>\n",
       "    </tr>\n",
       "    <tr>\n",
       "      <th>min</th>\n",
       "      <td>0.000000</td>\n",
       "      <td>5.000000</td>\n",
       "      <td>0.000000</td>\n",
       "      <td>5.000000</td>\n",
       "      <td>0.000000</td>\n",
       "    </tr>\n",
       "    <tr>\n",
       "      <th>25%</th>\n",
       "      <td>6.000000</td>\n",
       "      <td>11.000000</td>\n",
       "      <td>9.000000</td>\n",
       "      <td>14.000000</td>\n",
       "      <td>25.000000</td>\n",
       "    </tr>\n",
       "    <tr>\n",
       "      <th>50%</th>\n",
       "      <td>12.000000</td>\n",
       "      <td>17.000000</td>\n",
       "      <td>12.000000</td>\n",
       "      <td>17.000000</td>\n",
       "      <td>50.000000</td>\n",
       "    </tr>\n",
       "    <tr>\n",
       "      <th>75%</th>\n",
       "      <td>18.000000</td>\n",
       "      <td>23.000000</td>\n",
       "      <td>15.000000</td>\n",
       "      <td>20.000000</td>\n",
       "      <td>75.000000</td>\n",
       "    </tr>\n",
       "    <tr>\n",
       "      <th>max</th>\n",
       "      <td>21.000000</td>\n",
       "      <td>26.000000</td>\n",
       "      <td>21.000000</td>\n",
       "      <td>26.000000</td>\n",
       "      <td>99.000000</td>\n",
       "    </tr>\n",
       "  </tbody>\n",
       "</table>\n",
       "</div>"
      ],
      "text/plain": [
       "                x0           x1           y0           y1   sample_idx\n",
       "count  3528.000000  3528.000000  3528.000000  3528.000000  3528.000000\n",
       "mean     11.541667    16.541667    11.949830    16.949830    49.598073\n",
       "std       5.998437     5.998437     5.084211     5.084211    28.736546\n",
       "min       0.000000     5.000000     0.000000     5.000000     0.000000\n",
       "25%       6.000000    11.000000     9.000000    14.000000    25.000000\n",
       "50%      12.000000    17.000000    12.000000    17.000000    50.000000\n",
       "75%      18.000000    23.000000    15.000000    20.000000    75.000000\n",
       "max      21.000000    26.000000    21.000000    26.000000    99.000000"
      ]
     },
     "execution_count": 12,
     "metadata": {},
     "output_type": "execute_result"
    }
   ],
   "source": [
    "index_df.describe()"
   ]
  },
  {
   "cell_type": "code",
   "execution_count": 13,
   "metadata": {},
   "outputs": [
    {
     "data": {
      "text/plain": [
       "0        3\n",
       "1        3\n",
       "2        3\n",
       "3        3\n",
       "4        3\n",
       "        ..\n",
       "3523    18\n",
       "3524    18\n",
       "3525    21\n",
       "3526    21\n",
       "3527    21\n",
       "Name: x0, Length: 3528, dtype: int64"
      ]
     },
     "execution_count": 13,
     "metadata": {},
     "output_type": "execute_result"
    }
   ],
   "source": [
    "index_df['x0']"
   ]
  },
  {
   "cell_type": "code",
   "execution_count": 16,
   "metadata": {},
   "outputs": [
    {
     "data": {
      "text/plain": [
       "0       [0, 0, 0, 0, 0, 0, 0, 0, 0, 0, 0, 0, 0, 0, 0, ...\n",
       "1       [0, 0, 0, 0, 0, 0, 0, 0, 0, 0, 0, 0, 0, 0, 0, ...\n",
       "2       [0, 0, 0, 0, 0, 0, 0, 0, 0, 0, 0, 0, 0, 0, 0, ...\n",
       "3       [0, 0, 0, 0, 0, 0, 0, 0, 0, 0, 0, 0, 0, 0, 0, ...\n",
       "4       [0, 0, 0, 0, 0, 0, 0, 0, 0, 0, 0, 0, 1, 1, 0, ...\n",
       "                              ...                        \n",
       "3523    [1, 1, 1, 0, 0, 1, 1, 0, 0, 0, 1, 0, 0, 0, 0, ...\n",
       "3524    [1, 0, 0, 0, 0, 0, 0, 0, 0, 0, 0, 0, 0, 0, 0, ...\n",
       "3525    [0, 0, 0, 0, 1, 0, 0, 0, 0, 1, 0, 0, 0, 1, 1, ...\n",
       "3526    [0, 1, 1, 1, 0, 0, 1, 1, 0, 0, 1, 1, 0, 0, 0, ...\n",
       "3527    [1, 0, 0, 0, 0, 0, 0, 0, 0, 0, 0, 0, 0, 0, 0, ...\n",
       "Name: input, Length: 3528, dtype: object"
      ]
     },
     "execution_count": 16,
     "metadata": {},
     "output_type": "execute_result"
    }
   ],
   "source": [
    "index_df['input']"
   ]
  },
  {
   "cell_type": "code",
   "execution_count": 17,
   "metadata": {},
   "outputs": [
    {
     "data": {
      "text/plain": [
       "array([0, 0, 0, 0, 0, 0, 0, 0, 0, 0, 0, 0, 0, 0, 0, 0, 0, 0, 0, 0, 0, 0,\n",
       "       0, 0, 1])"
      ]
     },
     "execution_count": 17,
     "metadata": {},
     "output_type": "execute_result"
    }
   ],
   "source": [
    "index_df['input'][0]"
   ]
  },
  {
   "cell_type": "code",
   "execution_count": 18,
   "metadata": {},
   "outputs": [
    {
     "data": {
      "text/plain": [
       "x0                                                            3\n",
       "x1                                                            8\n",
       "y0                                                            6\n",
       "y1                                                           11\n",
       "sample_idx                                                    0\n",
       "input         [0, 0, 0, 0, 0, 0, 0, 0, 0, 0, 0, 0, 0, 0, 0, ...\n",
       "Name: 1, dtype: object"
      ]
     },
     "execution_count": 18,
     "metadata": {},
     "output_type": "execute_result"
    }
   ],
   "source": [
    "index_df.loc[1]"
   ]
  },
  {
   "cell_type": "code",
   "execution_count": 21,
   "metadata": {},
   "outputs": [
    {
     "data": {
      "text/html": [
       "<div>\n",
       "<style scoped>\n",
       "    .dataframe tbody tr th:only-of-type {\n",
       "        vertical-align: middle;\n",
       "    }\n",
       "\n",
       "    .dataframe tbody tr th {\n",
       "        vertical-align: top;\n",
       "    }\n",
       "\n",
       "    .dataframe thead tr th {\n",
       "        text-align: left;\n",
       "    }\n",
       "</style>\n",
       "<table border=\"1\" class=\"dataframe\">\n",
       "  <thead>\n",
       "    <tr>\n",
       "      <th></th>\n",
       "      <th colspan=\"2\" halign=\"left\">excite</th>\n",
       "      <th>inhibit</th>\n",
       "    </tr>\n",
       "    <tr>\n",
       "      <th></th>\n",
       "      <th>w1</th>\n",
       "      <th>0</th>\n",
       "      <th>0</th>\n",
       "    </tr>\n",
       "    <tr>\n",
       "      <th></th>\n",
       "      <th>w0</th>\n",
       "      <th>1</th>\n",
       "      <th>x</th>\n",
       "    </tr>\n",
       "  </thead>\n",
       "  <tbody>\n",
       "    <tr>\n",
       "      <th>0</th>\n",
       "      <td>1</td>\n",
       "      <td>9</td>\n",
       "      <td>4</td>\n",
       "    </tr>\n",
       "    <tr>\n",
       "      <th>1</th>\n",
       "      <td>2</td>\n",
       "      <td>8</td>\n",
       "      <td>5</td>\n",
       "    </tr>\n",
       "    <tr>\n",
       "      <th>2</th>\n",
       "      <td>3</td>\n",
       "      <td>7</td>\n",
       "      <td>6</td>\n",
       "    </tr>\n",
       "  </tbody>\n",
       "</table>\n",
       "</div>"
      ],
      "text/plain": [
       "  excite    inhibit\n",
       "      w1  0       0\n",
       "      w0  1       x\n",
       "0      1  9       4\n",
       "1      2  8       5\n",
       "2      3  7       6"
      ]
     },
     "execution_count": 21,
     "metadata": {},
     "output_type": "execute_result"
    }
   ],
   "source": [
    "d = {('excite','w1','w0'):[1,2,3], ('excite',0,1):[9,8,7], ('inhibit',0,'x'):[4,5,6]}\n",
    "df = pd.DataFrame(d)\n",
    "df"
   ]
  },
  {
   "cell_type": "code",
   "execution_count": 22,
   "metadata": {},
   "outputs": [
    {
     "data": {
      "text/plain": [
       "RangeIndex(start=0, stop=3, step=1)"
      ]
     },
     "execution_count": 22,
     "metadata": {},
     "output_type": "execute_result"
    }
   ],
   "source": [
    "df.index"
   ]
  },
  {
   "cell_type": "code",
   "execution_count": 23,
   "metadata": {},
   "outputs": [
    {
     "data": {
      "text/plain": [
       "excite   w1  w0    1\n",
       "         0   1     9\n",
       "inhibit  0   x     4\n",
       "Name: 0, dtype: int64"
      ]
     },
     "execution_count": 23,
     "metadata": {},
     "output_type": "execute_result"
    }
   ],
   "source": [
    "df.loc[0]"
   ]
  },
  {
   "cell_type": "code",
   "execution_count": 24,
   "metadata": {},
   "outputs": [
    {
     "data": {
      "text/plain": [
       "MultiIndex([( 'excite', 'w1', 'w0'),\n",
       "            ( 'excite',    0,    1),\n",
       "            ('inhibit',    0,  'x')],\n",
       "           )"
      ]
     },
     "execution_count": 24,
     "metadata": {},
     "output_type": "execute_result"
    }
   ],
   "source": [
    "df.loc[0].index"
   ]
  },
  {
   "cell_type": "code",
   "execution_count": 32,
   "metadata": {},
   "outputs": [
    {
     "data": {
      "text/plain": [
       "w0    1\n",
       "Name: 0, dtype: int64"
      ]
     },
     "execution_count": 32,
     "metadata": {},
     "output_type": "execute_result"
    }
   ],
   "source": [
    "df.loc[0, ('excite', 'w1')]"
   ]
  },
  {
   "cell_type": "code",
   "execution_count": 42,
   "metadata": {},
   "outputs": [],
   "source": [
    "df = pd.read_pickle(io.SAVE_PATH + 'net_data.pkl')"
   ]
  },
  {
   "cell_type": "code",
   "execution_count": 43,
   "metadata": {},
   "outputs": [
    {
     "data": {
      "text/plain": [
       "(3529, 425)"
      ]
     },
     "execution_count": 43,
     "metadata": {},
     "output_type": "execute_result"
    }
   ],
   "source": [
    "df.shape"
   ]
  },
  {
   "cell_type": "code",
   "execution_count": 44,
   "metadata": {},
   "outputs": [
    {
     "data": {
      "text/html": [
       "<div>\n",
       "<style scoped>\n",
       "    .dataframe tbody tr th:only-of-type {\n",
       "        vertical-align: middle;\n",
       "    }\n",
       "\n",
       "    .dataframe tbody tr th {\n",
       "        vertical-align: top;\n",
       "    }\n",
       "\n",
       "    .dataframe thead tr th {\n",
       "        text-align: left;\n",
       "    }\n",
       "</style>\n",
       "<table border=\"1\" class=\"dataframe\">\n",
       "  <thead>\n",
       "    <tr>\n",
       "      <th></th>\n",
       "      <th colspan=\"10\" halign=\"left\">input</th>\n",
       "      <th>...</th>\n",
       "      <th colspan=\"10\" halign=\"left\">output</th>\n",
       "    </tr>\n",
       "    <tr>\n",
       "      <th></th>\n",
       "      <th>0</th>\n",
       "      <th>1</th>\n",
       "      <th>2</th>\n",
       "      <th>3</th>\n",
       "      <th>4</th>\n",
       "      <th>5</th>\n",
       "      <th>6</th>\n",
       "      <th>7</th>\n",
       "      <th>8</th>\n",
       "      <th>9</th>\n",
       "      <th>...</th>\n",
       "      <th colspan=\"3\" halign=\"left\">8</th>\n",
       "      <th colspan=\"7\" halign=\"left\">9</th>\n",
       "    </tr>\n",
       "    <tr>\n",
       "      <th></th>\n",
       "      <th>0</th>\n",
       "      <th>0</th>\n",
       "      <th>0</th>\n",
       "      <th>0</th>\n",
       "      <th>0</th>\n",
       "      <th>0</th>\n",
       "      <th>0</th>\n",
       "      <th>0</th>\n",
       "      <th>0</th>\n",
       "      <th>0</th>\n",
       "      <th>...</th>\n",
       "      <th>2</th>\n",
       "      <th>3</th>\n",
       "      <th>4</th>\n",
       "      <th>a</th>\n",
       "      <th>p</th>\n",
       "      <th>0</th>\n",
       "      <th>1</th>\n",
       "      <th>2</th>\n",
       "      <th>3</th>\n",
       "      <th>4</th>\n",
       "    </tr>\n",
       "  </thead>\n",
       "  <tbody>\n",
       "    <tr>\n",
       "      <th>0</th>\n",
       "      <td>0</td>\n",
       "      <td>0</td>\n",
       "      <td>0</td>\n",
       "      <td>0</td>\n",
       "      <td>0</td>\n",
       "      <td>0</td>\n",
       "      <td>0</td>\n",
       "      <td>0</td>\n",
       "      <td>0</td>\n",
       "      <td>0</td>\n",
       "      <td>...</td>\n",
       "      <td>0.734999</td>\n",
       "      <td>0.263594</td>\n",
       "      <td>0.453872</td>\n",
       "      <td>0.0</td>\n",
       "      <td>0.578518</td>\n",
       "      <td>0.547401</td>\n",
       "      <td>0.300567</td>\n",
       "      <td>0.647727</td>\n",
       "      <td>0.614715</td>\n",
       "      <td>0.800240</td>\n",
       "    </tr>\n",
       "    <tr>\n",
       "      <th>1</th>\n",
       "      <td>0</td>\n",
       "      <td>0</td>\n",
       "      <td>0</td>\n",
       "      <td>0</td>\n",
       "      <td>0</td>\n",
       "      <td>0</td>\n",
       "      <td>0</td>\n",
       "      <td>0</td>\n",
       "      <td>0</td>\n",
       "      <td>0</td>\n",
       "      <td>...</td>\n",
       "      <td>0.734000</td>\n",
       "      <td>0.262666</td>\n",
       "      <td>0.452720</td>\n",
       "      <td>0.0</td>\n",
       "      <td>0.578518</td>\n",
       "      <td>0.546392</td>\n",
       "      <td>0.299695</td>\n",
       "      <td>0.646864</td>\n",
       "      <td>0.612966</td>\n",
       "      <td>0.799561</td>\n",
       "    </tr>\n",
       "    <tr>\n",
       "      <th>2</th>\n",
       "      <td>0</td>\n",
       "      <td>0</td>\n",
       "      <td>0</td>\n",
       "      <td>0</td>\n",
       "      <td>0</td>\n",
       "      <td>0</td>\n",
       "      <td>0</td>\n",
       "      <td>0</td>\n",
       "      <td>0</td>\n",
       "      <td>0</td>\n",
       "      <td>...</td>\n",
       "      <td>0.734687</td>\n",
       "      <td>0.262666</td>\n",
       "      <td>0.451345</td>\n",
       "      <td>0.0</td>\n",
       "      <td>0.578518</td>\n",
       "      <td>0.546383</td>\n",
       "      <td>0.300401</td>\n",
       "      <td>0.648345</td>\n",
       "      <td>0.612693</td>\n",
       "      <td>0.798800</td>\n",
       "    </tr>\n",
       "    <tr>\n",
       "      <th>3</th>\n",
       "      <td>0</td>\n",
       "      <td>0</td>\n",
       "      <td>0</td>\n",
       "      <td>0</td>\n",
       "      <td>0</td>\n",
       "      <td>0</td>\n",
       "      <td>0</td>\n",
       "      <td>0</td>\n",
       "      <td>0</td>\n",
       "      <td>0</td>\n",
       "      <td>...</td>\n",
       "      <td>0.735950</td>\n",
       "      <td>0.261602</td>\n",
       "      <td>0.451716</td>\n",
       "      <td>0.0</td>\n",
       "      <td>0.578518</td>\n",
       "      <td>0.546651</td>\n",
       "      <td>0.300475</td>\n",
       "      <td>0.649014</td>\n",
       "      <td>0.612099</td>\n",
       "      <td>0.799469</td>\n",
       "    </tr>\n",
       "    <tr>\n",
       "      <th>4</th>\n",
       "      <td>0</td>\n",
       "      <td>0</td>\n",
       "      <td>0</td>\n",
       "      <td>0</td>\n",
       "      <td>0</td>\n",
       "      <td>0</td>\n",
       "      <td>0</td>\n",
       "      <td>0</td>\n",
       "      <td>0</td>\n",
       "      <td>0</td>\n",
       "      <td>...</td>\n",
       "      <td>0.737458</td>\n",
       "      <td>0.261232</td>\n",
       "      <td>0.452835</td>\n",
       "      <td>0.0</td>\n",
       "      <td>0.578518</td>\n",
       "      <td>0.546797</td>\n",
       "      <td>0.300504</td>\n",
       "      <td>0.649315</td>\n",
       "      <td>0.610337</td>\n",
       "      <td>0.800334</td>\n",
       "    </tr>\n",
       "  </tbody>\n",
       "</table>\n",
       "<p>5 rows × 425 columns</p>\n",
       "</div>"
      ],
      "text/plain": [
       "  input                             ...    output                           \\\n",
       "      0  1  2  3  4  5  6  7  8  9  ...         8                        9   \n",
       "      0  0  0  0  0  0  0  0  0  0  ...         2         3         4    a   \n",
       "0     0  0  0  0  0  0  0  0  0  0  ...  0.734999  0.263594  0.453872  0.0   \n",
       "1     0  0  0  0  0  0  0  0  0  0  ...  0.734000  0.262666  0.452720  0.0   \n",
       "2     0  0  0  0  0  0  0  0  0  0  ...  0.734687  0.262666  0.451345  0.0   \n",
       "3     0  0  0  0  0  0  0  0  0  0  ...  0.735950  0.261602  0.451716  0.0   \n",
       "4     0  0  0  0  0  0  0  0  0  0  ...  0.737458  0.261232  0.452835  0.0   \n",
       "\n",
       "                                                               \n",
       "                                                               \n",
       "          p         0         1         2         3         4  \n",
       "0  0.578518  0.547401  0.300567  0.647727  0.614715  0.800240  \n",
       "1  0.578518  0.546392  0.299695  0.646864  0.612966  0.799561  \n",
       "2  0.578518  0.546383  0.300401  0.648345  0.612693  0.798800  \n",
       "3  0.578518  0.546651  0.300475  0.649014  0.612099  0.799469  \n",
       "4  0.578518  0.546797  0.300504  0.649315  0.610337  0.800334  \n",
       "\n",
       "[5 rows x 425 columns]"
      ]
     },
     "execution_count": 44,
     "metadata": {},
     "output_type": "execute_result"
    }
   ],
   "source": [
    "df.head()"
   ]
  },
  {
   "cell_type": "code",
   "execution_count": 45,
   "metadata": {},
   "outputs": [
    {
     "data": {
      "text/plain": [
       "MultiIndex([( 'input', 0,   0),\n",
       "            ( 'input', 1,   0),\n",
       "            ( 'input', 2,   0),\n",
       "            ( 'input', 3,   0),\n",
       "            ( 'input', 4,   0),\n",
       "            ( 'input', 5,   0),\n",
       "            ( 'input', 6,   0),\n",
       "            ( 'input', 7,   0),\n",
       "            ( 'input', 8,   0),\n",
       "            ( 'input', 9,   0),\n",
       "            ...\n",
       "            ('output', 8,   2),\n",
       "            ('output', 8,   3),\n",
       "            ('output', 8,   4),\n",
       "            ('output', 9, 'a'),\n",
       "            ('output', 9, 'p'),\n",
       "            ('output', 9,   0),\n",
       "            ('output', 9,   1),\n",
       "            ('output', 9,   2),\n",
       "            ('output', 9,   3),\n",
       "            ('output', 9,   4)],\n",
       "           length=425)"
      ]
     },
     "execution_count": 45,
     "metadata": {},
     "output_type": "execute_result"
    }
   ],
   "source": [
    "df.columns"
   ]
  },
  {
   "cell_type": "code",
   "execution_count": 111,
   "metadata": {},
   "outputs": [
    {
     "data": {
      "text/plain": [
       "a     0.000000\n",
       "p     0.825799\n",
       "0     0.963001\n",
       "1     0.320696\n",
       "2     0.962197\n",
       "3     0.755020\n",
       "4     0.437034\n",
       "5     0.457407\n",
       "6     0.002273\n",
       "7     0.785247\n",
       "8     0.699705\n",
       "9     0.750432\n",
       "10    0.470067\n",
       "11    0.284622\n",
       "12    0.578304\n",
       "13    0.863053\n",
       "14    0.687286\n",
       "15    0.617672\n",
       "16    0.092016\n",
       "17    0.586650\n",
       "18    0.091280\n",
       "19    0.029248\n",
       "20    0.751994\n",
       "21    0.214908\n",
       "22    0.585561\n",
       "23    0.580600\n",
       "24    0.425322\n",
       "Name: 0, dtype: float64"
      ]
     },
     "execution_count": 111,
     "metadata": {},
     "output_type": "execute_result"
    }
   ],
   "source": [
    "df.loc[0][( 'hidden', 0)]"
   ]
  },
  {
   "cell_type": "code",
   "execution_count": 116,
   "metadata": {},
   "outputs": [
    {
     "data": {
      "text/plain": [
       "array([0.        , 0.82579876, 0.96300148, 0.32069604, 0.96219726,\n",
       "       0.75502026, 0.43703352, 0.45740714, 0.0022731 , 0.7852472 ,\n",
       "       0.69970542, 0.75043156, 0.4700673 , 0.28462213, 0.57830392,\n",
       "       0.8630526 , 0.68728577, 0.61767183, 0.09201569, 0.58665042,\n",
       "       0.0912804 , 0.02924799, 0.75199406, 0.21490805, 0.58556076,\n",
       "       0.5806002 , 0.4253219 ])"
      ]
     },
     "execution_count": 116,
     "metadata": {},
     "output_type": "execute_result"
    }
   ],
   "source": [
    "import numpy as np\n",
    "np.array(df.loc[0][('hidden', 0)])"
   ]
  },
  {
   "cell_type": "code",
   "execution_count": 118,
   "metadata": {},
   "outputs": [
    {
     "data": {
      "text/plain": [
       "pandas.core.series.Series"
      ]
     },
     "execution_count": 118,
     "metadata": {},
     "output_type": "execute_result"
    }
   ],
   "source": [
    "type(df.loc[0][('hidden', 0)])"
   ]
  },
  {
   "cell_type": "code",
   "execution_count": 128,
   "metadata": {},
   "outputs": [
    {
     "data": {
      "text/plain": [
       "0  a     0.000000\n",
       "   p     0.825799\n",
       "   0     0.963001\n",
       "   1     0.320696\n",
       "   2     0.962197\n",
       "           ...   \n",
       "9  20    0.136444\n",
       "   21    0.174175\n",
       "   22    0.201309\n",
       "   23    0.841196\n",
       "   24    0.513157\n",
       "Name: 0, Length: 270, dtype: float64"
      ]
     },
     "execution_count": 128,
     "metadata": {},
     "output_type": "execute_result"
    }
   ],
   "source": [
    "df.loc[0]['hidden']"
   ]
  },
  {
   "cell_type": "code",
   "execution_count": 4,
   "metadata": {},
   "outputs": [],
   "source": [
    "df = pd.read_pickle(io.SAVE_PATH + 'net_data.pkl')"
   ]
  },
  {
   "cell_type": "code",
   "execution_count": 5,
   "metadata": {},
   "outputs": [
    {
     "data": {
      "text/plain": [
       "input      activations    [0.0, 0.0, 0.0, 0.0, 0.0, 0.0, 0.0, 0.0, 0.0, ...\n",
       "hidden     activations    [0.0, 0.0, 0.0, 0.0, 0.0, 0.0, 0.0, 0.0, 0.0, ...\n",
       "           potentials     [0.9381049585303278, 0.6855231441110747, 0.663...\n",
       "           weights        [[0.4618072235402737, 0.5217700240189488, 0.20...\n",
       "recurrent  activations                            [0.0, 0.0, 0.0, 0.0, 0.0]\n",
       "           potentials     [0.852909455517665, 0.9935554400651747, 0.1749...\n",
       "           weights        [[0.8553634807672716, 0.6325699949629879, 0.61...\n",
       "output     activations    [0.0, 0.0, 0.0, 0.0, 0.0, 0.0, 0.0, 0.0, 0.0, ...\n",
       "           potentials     [0.9381049585303278, 0.6855231441110747, 0.663...\n",
       "           weights        [[0.5871541624601688, 0.2157405937631608, 0.28...\n",
       "Name: 0, dtype: object"
      ]
     },
     "execution_count": 5,
     "metadata": {},
     "output_type": "execute_result"
    }
   ],
   "source": [
    "df.loc[0]"
   ]
  },
  {
   "cell_type": "code",
   "execution_count": 131,
   "metadata": {},
   "outputs": [
    {
     "data": {
      "text/html": [
       "<div>\n",
       "<style scoped>\n",
       "    .dataframe tbody tr th:only-of-type {\n",
       "        vertical-align: middle;\n",
       "    }\n",
       "\n",
       "    .dataframe tbody tr th {\n",
       "        vertical-align: top;\n",
       "    }\n",
       "\n",
       "    .dataframe thead th {\n",
       "        text-align: right;\n",
       "    }\n",
       "</style>\n",
       "<table border=\"1\" class=\"dataframe\">\n",
       "  <thead>\n",
       "    <tr style=\"text-align: right;\">\n",
       "      <th></th>\n",
       "      <th>activations</th>\n",
       "    </tr>\n",
       "  </thead>\n",
       "  <tbody>\n",
       "    <tr>\n",
       "      <th>0</th>\n",
       "      <td>[0.0, 0.0, 0.0, 0.0, 0.0, 0.0, 0.0, 0.0, 0.0, ...</td>\n",
       "    </tr>\n",
       "    <tr>\n",
       "      <th>1</th>\n",
       "      <td>[0, 0, 0, 0, 0, 0, 0, 0, 0, 0, 0, 0, 0, 0, 0, ...</td>\n",
       "    </tr>\n",
       "    <tr>\n",
       "      <th>2</th>\n",
       "      <td>[0, 0, 0, 0, 0, 0, 0, 0, 0, 0, 0, 0, 0, 0, 0, ...</td>\n",
       "    </tr>\n",
       "    <tr>\n",
       "      <th>3</th>\n",
       "      <td>[0, 0, 0, 0, 0, 0, 0, 0, 0, 0, 0, 0, 0, 0, 0, ...</td>\n",
       "    </tr>\n",
       "    <tr>\n",
       "      <th>4</th>\n",
       "      <td>[0, 0, 0, 0, 0, 0, 0, 0, 0, 0, 0, 0, 0, 0, 0, ...</td>\n",
       "    </tr>\n",
       "    <tr>\n",
       "      <th>...</th>\n",
       "      <td>...</td>\n",
       "    </tr>\n",
       "    <tr>\n",
       "      <th>3524</th>\n",
       "      <td>[1, 1, 1, 0, 0, 1, 1, 0, 0, 0, 1, 0, 0, 0, 0, ...</td>\n",
       "    </tr>\n",
       "    <tr>\n",
       "      <th>3525</th>\n",
       "      <td>[1, 0, 0, 0, 0, 0, 0, 0, 0, 0, 0, 0, 0, 0, 0, ...</td>\n",
       "    </tr>\n",
       "    <tr>\n",
       "      <th>3526</th>\n",
       "      <td>[0, 0, 0, 0, 1, 0, 0, 0, 0, 1, 0, 0, 0, 1, 1, ...</td>\n",
       "    </tr>\n",
       "    <tr>\n",
       "      <th>3527</th>\n",
       "      <td>[0, 1, 1, 1, 0, 0, 1, 1, 0, 0, 1, 1, 0, 0, 0, ...</td>\n",
       "    </tr>\n",
       "    <tr>\n",
       "      <th>3528</th>\n",
       "      <td>[1, 0, 0, 0, 0, 0, 0, 0, 0, 0, 0, 0, 0, 0, 0, ...</td>\n",
       "    </tr>\n",
       "  </tbody>\n",
       "</table>\n",
       "<p>3529 rows × 1 columns</p>\n",
       "</div>"
      ],
      "text/plain": [
       "                                            activations\n",
       "0     [0.0, 0.0, 0.0, 0.0, 0.0, 0.0, 0.0, 0.0, 0.0, ...\n",
       "1     [0, 0, 0, 0, 0, 0, 0, 0, 0, 0, 0, 0, 0, 0, 0, ...\n",
       "2     [0, 0, 0, 0, 0, 0, 0, 0, 0, 0, 0, 0, 0, 0, 0, ...\n",
       "3     [0, 0, 0, 0, 0, 0, 0, 0, 0, 0, 0, 0, 0, 0, 0, ...\n",
       "4     [0, 0, 0, 0, 0, 0, 0, 0, 0, 0, 0, 0, 0, 0, 0, ...\n",
       "...                                                 ...\n",
       "3524  [1, 1, 1, 0, 0, 1, 1, 0, 0, 0, 1, 0, 0, 0, 0, ...\n",
       "3525  [1, 0, 0, 0, 0, 0, 0, 0, 0, 0, 0, 0, 0, 0, 0, ...\n",
       "3526  [0, 0, 0, 0, 1, 0, 0, 0, 0, 1, 0, 0, 0, 1, 1, ...\n",
       "3527  [0, 1, 1, 1, 0, 0, 1, 1, 0, 0, 1, 1, 0, 0, 0, ...\n",
       "3528  [1, 0, 0, 0, 0, 0, 0, 0, 0, 0, 0, 0, 0, 0, 0, ...\n",
       "\n",
       "[3529 rows x 1 columns]"
      ]
     },
     "execution_count": 131,
     "metadata": {},
     "output_type": "execute_result"
    }
   ],
   "source": [
    "df['input']"
   ]
  },
  {
   "cell_type": "code",
   "execution_count": 151,
   "metadata": {},
   "outputs": [
    {
     "data": {
      "text/plain": [
       "(25, 10)"
      ]
     },
     "execution_count": 151,
     "metadata": {},
     "output_type": "execute_result"
    }
   ],
   "source": [
    "w = df.loc[1]['hidden', 'weights']\n",
    "w.shape"
   ]
  },
  {
   "cell_type": "code",
   "execution_count": 12,
   "metadata": {},
   "outputs": [
    {
     "data": {
      "text/plain": [
       "activations    [0.0, 0.0, 0.0, 0.0, 0.0, 0.0, 0.0, 0.0, 0.0, ...\n",
       "potentials     [0.0, 0.0, 0.0, 0.0, 0.0, 0.0, 0.0, 0.0, 0.0, ...\n",
       "weights        [[0.0016244797716027382, 0.0007442936205399597...\n",
       "dtype: object"
      ]
     },
     "execution_count": 12,
     "metadata": {},
     "output_type": "execute_result"
    }
   ],
   "source": [
    "ndf = df.loc[0]['hidden'] - df.loc[1]['hidden']\n",
    "ndf"
   ]
  },
  {
   "cell_type": "code",
   "execution_count": 13,
   "metadata": {},
   "outputs": [
    {
     "data": {
      "text/plain": [
       "array([[ 1.62447977e-03,  7.44293621e-04,  4.25644486e-04,\n",
       "         4.28572214e-04,  2.00060143e-05,  2.34513863e-03,\n",
       "         1.09716808e-03,  7.30620440e-07,  1.93539997e-03,\n",
       "         3.44378758e-04],\n",
       "       [ 3.79049535e-03,  4.71673155e-04,  4.43232088e-05,\n",
       "         2.72614126e-03,  1.11958923e-04,  2.04600807e-04,\n",
       "         6.11674729e-04,  5.38322379e-08,  3.12833414e-04,\n",
       "         3.12778326e-04],\n",
       "       [ 4.19147135e-04,  2.10707177e-03,  4.02042156e-04,\n",
       "         4.82974728e-04,  4.97538984e-06,  4.60724161e-04,\n",
       "         1.58092145e-03,  6.47694301e-07,  2.85718707e-03,\n",
       "         3.64975010e-04],\n",
       "       [ 1.50212654e-03,  3.23158791e-04,  9.83218179e-04,\n",
       "         2.68954262e-04,  3.89775764e-05,  1.09446284e-03,\n",
       "         6.52749431e-04,  1.40134397e-09,  1.66562389e-04,\n",
       "         3.93181222e-05],\n",
       "       [ 8.56671768e-04,  2.34728132e-03,  1.53546179e-04,\n",
       "         1.18456616e-03,  1.55163038e-05,  7.95370908e-04,\n",
       "         4.06299449e-05,  4.13982434e-07,  2.69544972e-03,\n",
       "         6.42684426e-04],\n",
       "       [ 8.78057192e-04,  8.39803428e-04,  2.03910296e-03,\n",
       "         4.22520979e-04,  7.53421782e-05,  1.10228311e-03,\n",
       "         2.17843130e-03,  5.04872065e-07,  5.69185412e-03,\n",
       "         3.86198210e-04],\n",
       "       [ 6.40929066e-05,  6.68912530e-04,  2.38733659e-04,\n",
       "         3.00385017e-03,  2.07169177e-06,  5.15154968e-04,\n",
       "         1.48066765e-03,  5.02235802e-08,  1.34120286e-03,\n",
       "         3.03773659e-04],\n",
       "       [ 6.56282269e-04,  4.00389552e-03,  1.26261803e-03,\n",
       "         2.41909182e-03,  4.70250868e-06,  1.33242929e-03,\n",
       "         1.78447520e-03,  5.61267676e-07,  8.05343402e-04,\n",
       "         2.66372091e-04],\n",
       "       [ 5.83329702e-04,  1.19960761e-03,  8.61387373e-04,\n",
       "         6.22180799e-03,  1.39196775e-04,  4.89494879e-04,\n",
       "         2.96204948e-04,  1.78183440e-07,  1.26520428e-03,\n",
       "         3.40292305e-04],\n",
       "       [ 3.83407242e-03,  8.19524230e-04,  2.55593926e-03,\n",
       "         2.03761598e-03,  9.75342223e-05,  3.58394641e-04,\n",
       "         1.24776389e-03,  8.96997768e-07,  1.17037886e-03,\n",
       "         1.13368205e-04],\n",
       "       [ 2.86853331e-04,  1.53161649e-05,  1.01193897e-03,\n",
       "         3.36368554e-03,  5.64063484e-05,  3.77400827e-04,\n",
       "         5.07608811e-04,  7.54402062e-07,  1.64003568e-03,\n",
       "         1.38304729e-04],\n",
       "       [ 3.98497394e-03,  1.01803507e-04,  1.87644186e-04,\n",
       "         1.38372834e-03,  3.41744722e-05,  1.44978348e-03,\n",
       "         3.36049752e-04,  4.61190982e-07,  5.43473418e-03,\n",
       "         3.00519317e-04],\n",
       "       [ 1.46304974e-03,  6.45782792e-05,  5.38804445e-04,\n",
       "         3.53960500e-03,  6.43155007e-05,  7.88835071e-04,\n",
       "         7.36046896e-04,  1.34220657e-06,  6.93126021e-04,\n",
       "         7.97468532e-04],\n",
       "       [ 1.81046696e-03,  8.51007201e-04,  1.42592438e-03,\n",
       "         1.75886737e-03,  9.78190792e-05,  5.64181203e-04,\n",
       "         1.84281322e-03,  6.10400525e-08,  5.37544885e-04,\n",
       "         6.14464825e-05],\n",
       "       [ 5.28262439e-04,  1.35143379e-03,  1.56596876e-03,\n",
       "         6.80965847e-04,  1.10803094e-04,  7.88688490e-04,\n",
       "         4.11027325e-05,  9.30390442e-07,  3.06812673e-04,\n",
       "         2.77548024e-04],\n",
       "       [ 2.98273010e-03,  1.16784242e-03,  1.68425583e-03,\n",
       "         2.64445324e-03,  1.60686003e-05,  7.80625329e-05,\n",
       "         2.14122568e-04,  8.73556348e-08,  1.64738683e-03,\n",
       "         5.61518987e-04],\n",
       "       [ 3.73060504e-03,  9.09026402e-04,  1.11846136e-03,\n",
       "         1.22599835e-04,  5.05998030e-05,  2.10505434e-05,\n",
       "         1.67357882e-03,  3.29557215e-08,  2.83089223e-03,\n",
       "         6.58663324e-04],\n",
       "       [ 2.97516732e-04,  1.91557597e-04,  2.21045554e-03,\n",
       "         6.77784913e-03,  1.71162429e-04,  2.13008859e-04,\n",
       "         6.07804526e-04,  2.26859720e-08,  4.41427133e-03,\n",
       "         1.37755926e-04],\n",
       "       [ 5.19638516e-03,  3.66407531e-03,  1.41928933e-03,\n",
       "         2.98076659e-03,  8.20576820e-05,  7.55239964e-04,\n",
       "         1.07475837e-04,  2.09949955e-07,  1.40746687e-03,\n",
       "         5.49916109e-04],\n",
       "       [ 2.61338493e-03,  3.35886139e-03,  1.84570676e-03,\n",
       "         3.09362039e-03,  1.82691276e-06,  1.02065279e-04,\n",
       "         2.16378659e-04,  9.87175430e-07,  1.17148611e-03,\n",
       "         5.44835428e-04],\n",
       "       [ 9.50754488e-04,  1.44760690e-03,  9.19842001e-05,\n",
       "         4.72865530e-03,  2.73423126e-05,  5.10024442e-04,\n",
       "         2.37400014e-03,  1.83627157e-07,  2.54383921e-03,\n",
       "         3.40948891e-04],\n",
       "       [ 4.04527108e-05,  3.34873217e-04,  6.51628757e-04,\n",
       "         4.79922952e-04,  5.46788723e-06,  7.87448321e-05,\n",
       "         8.52600468e-04,  9.85701404e-07,  8.12437416e-04,\n",
       "         3.40218909e-04],\n",
       "       [ 1.77816186e-03,  8.00202995e-04,  2.98744642e-04,\n",
       "         2.34754131e-03,  9.37416069e-05,  1.10604198e-03,\n",
       "         1.91697510e-03,  5.01878553e-07,  8.29567581e-05,\n",
       "         2.84498675e-04],\n",
       "       [ 1.76454760e-03,  4.42755823e-04,  1.15233617e-03,\n",
       "         2.81528594e-03,  6.00569926e-05,  7.49197053e-04,\n",
       "         2.32193496e-03,  9.53249488e-09,  2.13042503e-04,\n",
       "         2.34359709e-04],\n",
       "       [-2.93588833e-03, -1.81619865e-03, -1.15957922e-03,\n",
       "        -1.26455603e-03, -5.89932326e-05, -1.76219138e-04,\n",
       "        -1.38481951e-03, -2.84538805e-06, -9.09421305e-04,\n",
       "        -3.61361760e-05]])"
      ]
     },
     "execution_count": 13,
     "metadata": {},
     "output_type": "execute_result"
    }
   ],
   "source": [
    "ndf['weights']"
   ]
  },
  {
   "cell_type": "code",
   "execution_count": 16,
   "metadata": {},
   "outputs": [
    {
     "data": {
      "text/plain": [
       "array([[0.46018274, 0.52102573, 0.20956943, 0.66310383, 0.66306344,\n",
       "        0.93634707, 0.49415425, 0.80764812, 0.28491234, 0.39621311],\n",
       "       [0.6550431 , 0.57903776, 0.73494292, 0.74078813, 0.87620134,\n",
       "        0.15188769, 0.67878116, 0.0623377 , 0.09927675, 0.39550167],\n",
       "       [0.88978756, 0.83216951, 0.86937491, 0.70160043, 0.04441987,\n",
       "        0.20614148, 0.54064536, 0.70290158, 0.46570117, 0.91794916],\n",
       "       [0.31687128, 0.69281094, 0.48533408, 0.14631781, 0.49515395,\n",
       "        0.99347185, 0.57802039, 0.00182122, 0.63339322, 0.05031696],\n",
       "       [0.8673797 , 0.91059068, 0.44414626, 0.25577988, 0.2242808 ,\n",
       "        0.48125644, 0.5748192 , 0.98680818, 0.99079777, 0.7860497 ],\n",
       "       [0.71854834, 0.52145367, 0.84651699, 0.08718138, 0.54635433,\n",
       "        0.92155467, 0.91715873, 0.423147  , 0.78762425, 0.88366975],\n",
       "       [0.28316862, 0.48289441, 0.4388887 , 0.47356434, 0.0372091 ,\n",
       "        0.66192213, 0.96802163, 0.0280818 , 0.4092526 , 0.96365464],\n",
       "       [0.07680833, 0.98068028, 0.6896162 , 0.68230909, 0.33031013,\n",
       "        0.53325751, 0.5623761 , 0.45640967, 0.42836665, 0.58004703],\n",
       "       [0.82180911, 0.4695901 , 0.42378336, 0.81516433, 0.97848654,\n",
       "        0.24195128, 0.18806606, 0.1847302 , 0.49759205, 0.93912304],\n",
       "       [0.78611904, 0.60560455, 0.61462513, 0.34447861, 0.47544206,\n",
       "        0.31823177, 0.51589448, 0.47690088, 0.52487556, 0.94526927],\n",
       "       [0.04699114, 0.07943037, 0.73450272, 0.96531868, 0.80103245,\n",
       "        0.33485004, 0.77404287, 0.96447565, 0.48492302, 0.99094219],\n",
       "       [0.53884803, 0.07324768, 0.45881461, 0.22934751, 0.29861001,\n",
       "        0.68789388, 0.20165041, 0.27899064, 0.89211219, 0.8660147 ],\n",
       "       [0.86110382, 0.74737667, 0.30823277, 0.6033836 , 0.31593029,\n",
       "        0.34797825, 0.58062969, 0.76428473, 0.44070247, 0.88044493],\n",
       "       [0.31273438, 0.43092713, 0.4132247 , 0.49576244, 0.39823333,\n",
       "        0.44282282, 0.74643917, 0.11757989, 0.11791427, 0.06868003],\n",
       "       [0.11189147, 0.53071896, 0.57914426, 0.14071019, 0.97100961,\n",
       "        0.70246545, 0.2966745 , 0.45958073, 0.34549562, 0.50751736],\n",
       "       [0.92548469, 0.86296102, 0.96784631, 0.4070743 , 0.51664411,\n",
       "        0.17754304, 0.06536405, 0.07602918, 0.44336199, 0.97076525],\n",
       "       [0.49584504, 0.38700246, 0.8536404 , 0.0440527 , 0.36936058,\n",
       "        0.03458953, 0.72952649, 0.02127153, 0.49208087, 0.79067393],\n",
       "       [0.07862819, 0.15338423, 0.59334085, 0.83764878, 0.74355391,\n",
       "        0.29448452, 0.41709692, 0.20259156, 0.58323074, 0.27679516],\n",
       "       [0.83492315, 0.8305089 , 0.97946817, 0.53689899, 0.57132123,\n",
       "        0.70132984, 0.04761341, 0.19220123, 0.70076052, 0.74459425],\n",
       "       [0.75635641, 0.8368101 , 0.43228155, 0.65416354, 0.34134189,\n",
       "        0.04624171, 0.1970763 , 0.50255867, 0.16491061, 0.65105517],\n",
       "       [0.37438091, 0.46861924, 0.11761861, 0.73858392, 0.71149634,\n",
       "        0.22400158, 0.79798174, 0.16972226, 0.4648707 , 0.45091446],\n",
       "       [0.60226771, 0.62056277, 0.36439122, 0.14323503, 0.12430445,\n",
       "        0.59674615, 0.81999477, 0.67259906, 0.33375063, 0.62441733],\n",
       "       [0.67980923, 0.36701342, 0.39082313, 0.47263879, 0.73587665,\n",
       "        0.60167464, 0.78105321, 0.27369177, 0.74895416, 0.61001078],\n",
       "       [0.9605828 , 0.81764433, 0.62477257, 0.35788137, 0.53876507,\n",
       "        0.32013768, 0.72963368, 0.17187692, 0.04061569, 0.85073353],\n",
       "       [0.99789298, 0.7973278 , 0.38436203, 0.37194712, 0.22934011,\n",
       "        0.61185744, 0.63089055, 0.90510861, 0.46174854, 0.54272005]])"
      ]
     },
     "execution_count": 16,
     "metadata": {},
     "output_type": "execute_result"
    }
   ],
   "source": [
    "df.loc[1]['hidden','weights']"
   ]
  },
  {
   "cell_type": "code",
   "execution_count": null,
   "metadata": {},
   "outputs": [],
   "source": []
  }
 ],
 "metadata": {
  "kernelspec": {
   "display_name": "Python 3",
   "language": "python",
   "name": "python3"
  },
  "language_info": {
   "codemirror_mode": {
    "name": "ipython",
    "version": 3
   },
   "file_extension": ".py",
   "mimetype": "text/x-python",
   "name": "python",
   "nbconvert_exporter": "python",
   "pygments_lexer": "ipython3",
   "version": "3.7.3"
  }
 },
 "nbformat": 4,
 "nbformat_minor": 2
}
